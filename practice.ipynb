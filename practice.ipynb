{
  "nbformat": 4,
  "nbformat_minor": 0,
  "metadata": {
    "colab": {
      "provenance": [],
      "toc_visible": true,
      "authorship_tag": "ABX9TyOw2KPRlP3No3Tud61jznFh",
      "include_colab_link": true
    },
    "kernelspec": {
      "name": "python3",
      "display_name": "Python 3"
    },
    "language_info": {
      "name": "python"
    }
  },
  "cells": [
    {
      "cell_type": "markdown",
      "metadata": {
        "id": "view-in-github",
        "colab_type": "text"
      },
      "source": [
        "<a href=\"https://colab.research.google.com/github/87278909/Python_14may/blob/main/practice.ipynb\" target=\"_parent\"><img src=\"https://colab.research.google.com/assets/colab-badge.svg\" alt=\"Open In Colab\"/></a>"
      ]
    },
    {
      "cell_type": "markdown",
      "source": [
        "# 1. Discount Calculator"
      ],
      "metadata": {
        "id": "efjFp1SsVcBU"
      }
    },
    {
      "cell_type": "code",
      "source": [
        "bill = float(input(\"Enter total bill amount: \"))\n",
        "if bill > 1000:\n",
        "    discount = bill * 0.20\n",
        "elif bill > 500:\n",
        "    discount = bill * 0.10\n",
        "else:\n",
        "    discount = 0\n",
        "final_amount = bill - discount\n",
        "print(\"Final amount after discount:\", final_amount)\n"
      ],
      "metadata": {
        "colab": {
          "base_uri": "https://localhost:8080/"
        },
        "id": "wpyj8XdaHEQc",
        "outputId": "bcf7a4b9-563c-490b-ba3f-139e7574c449"
      },
      "execution_count": 1,
      "outputs": [
        {
          "output_type": "stream",
          "name": "stdout",
          "text": [
            "Enter total bill amount: 500\n",
            "Final amount after discount: 500.0\n"
          ]
        }
      ]
    },
    {
      "cell_type": "markdown",
      "source": [
        "# 2. Grade Categorizer"
      ],
      "metadata": {
        "id": "G_2O9zm-HZdg"
      }
    },
    {
      "cell_type": "code",
      "source": [
        "score = int(input(\"Enter score: \"))\n",
        "if 90 <= score <= 100:\n",
        "    print(\"Grade A\")\n",
        "elif 70 <= score < 90:\n",
        "    print(\"Grade B\")\n",
        "elif 50 <= score < 70:\n",
        "    print(\"Grade C\")\n",
        "else:\n",
        "    print(\"Fail\")\n"
      ],
      "metadata": {
        "colab": {
          "base_uri": "https://localhost:8080/"
        },
        "id": "ad36PQTYHjCI",
        "outputId": "2c999b02-53a3-4781-b89c-39caea2c7edd"
      },
      "execution_count": 2,
      "outputs": [
        {
          "output_type": "stream",
          "name": "stdout",
          "text": [
            "Enter score: 96\n",
            "Grade A\n"
          ]
        }
      ]
    },
    {
      "cell_type": "markdown",
      "source": [
        "# 3.Age Group Classifier"
      ],
      "metadata": {
        "id": "X_Szm_d8IbEZ"
      }
    },
    {
      "cell_type": "code",
      "source": [
        "age = int(input(\"Enter age: \"))\n",
        "if age < 13:\n",
        "    print(\"Child\")\n",
        "elif age <= 19:\n",
        "    print(\"Teen\")\n",
        "elif age <= 59:\n",
        "    print(\"Adult\")\n",
        "else:\n",
        "    print(\"Senior\")\n"
      ],
      "metadata": {
        "colab": {
          "base_uri": "https://localhost:8080/"
        },
        "id": "TLjDkkieJkfM",
        "outputId": "67b92165-bb8f-4a86-cc09-ca082d502d66"
      },
      "execution_count": 3,
      "outputs": [
        {
          "output_type": "stream",
          "name": "stdout",
          "text": [
            "Enter age: 21\n",
            "Adult\n"
          ]
        }
      ]
    }
  ]
}