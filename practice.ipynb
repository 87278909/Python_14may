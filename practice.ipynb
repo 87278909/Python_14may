{
  "nbformat": 4,
  "nbformat_minor": 0,
  "metadata": {
    "colab": {
      "provenance": [],
      "authorship_tag": "ABX9TyMeIxaHg9soMyG88VdRHoct",
      "include_colab_link": true
    },
    "kernelspec": {
      "name": "python3",
      "display_name": "Python 3"
    },
    "language_info": {
      "name": "python"
    }
  },
  "cells": [
    {
      "cell_type": "markdown",
      "metadata": {
        "id": "view-in-github",
        "colab_type": "text"
      },
      "source": [
        "<a href=\"https://colab.research.google.com/github/87278909/Python_14may/blob/main/practice.ipynb\" target=\"_parent\"><img src=\"https://colab.research.google.com/assets/colab-badge.svg\" alt=\"Open In Colab\"/></a>"
      ]
    },
    {
      "cell_type": "code",
      "execution_count": null,
      "metadata": {
        "colab": {
          "base_uri": "https://localhost:8080/"
        },
        "id": "bi9zkhWXUqmw",
        "outputId": "0af81847-34f6-41e6-c43c-fe797caa9ac9"
      },
      "outputs": [
        {
          "output_type": "stream",
          "name": "stdout",
          "text": [
            "enter yr2025\n",
            "not leap yr\n"
          ]
        }
      ],
      "source": [
        "year=int(input(\"enter yr\"))\n",
        "if year%4==0 & (year%100!=0 |year%400==0):\n",
        "    print(\"leap yr\")\n",
        "else:\n",
        "    print(\"not leap yr\")"
      ]
    },
    {
      "cell_type": "markdown",
      "source": [
        "# New Section"
      ],
      "metadata": {
        "id": "bubuRv1NVeUA"
      }
    },
    {
      "cell_type": "code",
      "source": [
        "bill = float(input(\"Enter total bill amount: \"))\n",
        "if bill > 1000:\n",
        "    discount = bill * 0.20\n",
        "elif bill > 500:\n",
        "    discount = bill * 0.10\n",
        "else:\n",
        "    discount = 0\n",
        "final_amount = bill - discount\n",
        "print(\"Final amount after discount:\", final_amount)\n"
      ],
      "metadata": {
        "colab": {
          "base_uri": "https://localhost:8080/"
        },
        "id": "zYS4vDQCVfV-",
        "outputId": "918ddfca-ceae-492c-e329-41440b97f790"
      },
      "execution_count": null,
      "outputs": [
        {
          "output_type": "stream",
          "name": "stdout",
          "text": [
            "Enter total bill amount: 1200\n",
            "Final amount after discount: 960.0\n"
          ]
        }
      ]
    },
    {
      "cell_type": "markdown",
      "source": [
        "# New Section"
      ],
      "metadata": {
        "id": "efjFp1SsVcBU"
      }
    }
  ]
}